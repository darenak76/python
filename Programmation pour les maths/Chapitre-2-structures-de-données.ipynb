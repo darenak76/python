{
 "cells": [
  {
   "cell_type": "code",
   "execution_count": 2,
   "id": "90b4fbc0",
   "metadata": {},
   "outputs": [
    {
     "name": "stdout",
     "output_type": "stream",
     "text": [
      "[2, 3, 5, 8, 13, 21, 34]\n",
      "[1, 3, 3, 1]\n"
     ]
    }
   ],
   "source": [
    "#exercice  2.1\n",
    "def fibonacci(N):\n",
    "    u = [0, 1]\n",
    "    for n in range(2, N):\n",
    "        u.append(u[n-1] + u[n-2])\n",
    "    return(u[3:N])\n",
    "print(fibonacci(10))\n",
    "\n",
    "def pascal(N):\n",
    "    if N == 1:\n",
    "        return [1]\n",
    "    else :\n",
    "        previous = pascal(N-1)\n",
    "        return [1] + [previous[i] + previous[i+1] for i in range(N-2)] + [1]\n",
    "print(pascal(4))\n",
    "    \n",
    "#https://docs.python.org/fr/3.13/library/stdtypes.html#sequence-types-list-tuple-range"
   ]
  },
  {
   "cell_type": "code",
   "execution_count": 22,
   "id": "649a66f8",
   "metadata": {},
   "outputs": [
    {
     "data": {
      "text/plain": [
       "[(10, 100), (30, 40, 50, 100), (70, 80, 100)]"
      ]
     },
     "execution_count": 22,
     "metadata": {},
     "output_type": "execute_result"
    }
   ],
   "source": [
    "#exercice 2.2\n",
    "def mdlast(lst, val):\n",
    "    return[t[:-1] + (100,) for t in lst]\n",
    "lst=[(10, 20), (30, 40, 50, 60), (70, 80, 90)]\n",
    "mdlast(lst, 100)"
   ]
  },
  {
   "cell_type": "code",
   "execution_count": 31,
   "id": "4ab0e4aa",
   "metadata": {},
   "outputs": [
    {
     "data": {
      "text/plain": [
       "{97}"
      ]
     },
     "execution_count": 31,
     "metadata": {},
     "output_type": "execute_result"
    }
   ],
   "source": [
    "#exercice 2.3\n",
    "def divisible(n):\n",
    "    return {x for x in range(n, 100) if x % n == 0}\n",
    "divisible(97)"
   ]
  },
  {
   "cell_type": "code",
   "execution_count": 2,
   "id": "96a5e256",
   "metadata": {},
   "outputs": [
    {
     "name": "stdout",
     "output_type": "stream",
     "text": [
      "['Clémentine', 'Datte', 'Groseille', 'Pêche', 'Poire', 'Pomme', 'Prune']\n",
      "['Clémentine', 'Datte', 'Groseille', 'Pêche', 'Poire', 'Pomme', 'Prune']\n"
     ]
    }
   ],
   "source": [
    "#exercice 2.4\n",
    "\n",
    "mots = ['Abricot', 'Airelle', 'Ananas', 'Banane', 'Cassis', 'Cerise', 'Citron', \n",
    "'Clémentine', 'Coing', 'Datte', 'Fraise', 'Framboise', 'Grenade', 'Groseille', \n",
    "'Kaki', 'Kiwi', 'Litchi', 'Mandarine', 'Mangue', 'Melon', 'Mirabelle', 'Nectarine',\n",
    "'Orange', 'Pamplemousse', 'Papaye', 'Pêche', 'Poire', 'Pomme', 'Prune', 'Raisin']\n",
    "\n",
    "def position(mots, x ,n):\n",
    "    out = []\n",
    "    for mot in mots:\n",
    "        if n < len(mot) and mot[n] == x :\n",
    "            out.append(mot)\n",
    "    return out\n",
    "print(position(mots,'e',4))\n",
    "\n",
    "mots_dict = dict()\n",
    "for mot in mots:\n",
    "    for i,c in enumerate(mot):\n",
    "        mots_dict[(c,i)] = mots_dict.get((c,i), []) + [mot]\n",
    "print(mots_dict['e',4])"
   ]
  },
  {
   "cell_type": "code",
   "execution_count": null,
   "id": "da57b61a",
   "metadata": {},
   "outputs": [],
   "source": []
  }
 ],
 "metadata": {
  "kernelspec": {
   "display_name": "Python 3 (ipykernel)",
   "language": "python",
   "name": "python3"
  },
  "language_info": {
   "codemirror_mode": {
    "name": "ipython",
    "version": 3
   },
   "file_extension": ".py",
   "mimetype": "text/x-python",
   "name": "python",
   "nbconvert_exporter": "python",
   "pygments_lexer": "ipython3",
   "version": "3.11.2"
  }
 },
 "nbformat": 4,
 "nbformat_minor": 5
}
